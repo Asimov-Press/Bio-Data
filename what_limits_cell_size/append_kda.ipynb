{
 "cells": [
  {
   "cell_type": "code",
   "execution_count": 25,
   "id": "d667bcf8-f214-4d74-9be8-f4f7fa592a1a",
   "metadata": {},
   "outputs": [],
   "source": [
    "import pandas as pd\n",
    "import requests\n",
    "from time import sleep\n",
    "from urllib.request import urlopen\n",
    "import ssl"
   ]
  },
  {
   "cell_type": "code",
   "execution_count": 26,
   "id": "4a25f77b-e947-457b-967b-52c994d012fe",
   "metadata": {},
   "outputs": [],
   "source": [
    "# Create an unverified SSL context\n",
    "ssl_context = ssl._create_unverified_context()"
   ]
  },
  {
   "cell_type": "code",
   "execution_count": 20,
   "id": "0b164a14-dbc9-4b3b-961c-75a7ff279be5",
   "metadata": {},
   "outputs": [],
   "source": [
    "file_path = 'Diffusion Rates - Sci_Adv.csv'"
   ]
  },
  {
   "cell_type": "code",
   "execution_count": 21,
   "id": "ffc24e5c-c02e-4323-951e-137ac4f0c200",
   "metadata": {},
   "outputs": [],
   "source": [
    "dataset = pd.read_csv(file_path)"
   ]
  },
  {
   "cell_type": "code",
   "execution_count": 22,
   "id": "b02383df-1e50-42e4-b629-34003dccc663",
   "metadata": {},
   "outputs": [
    {
     "data": {
      "text/html": [
       "<div>\n",
       "<style scoped>\n",
       "    .dataframe tbody tr th:only-of-type {\n",
       "        vertical-align: middle;\n",
       "    }\n",
       "\n",
       "    .dataframe tbody tr th {\n",
       "        vertical-align: top;\n",
       "    }\n",
       "\n",
       "    .dataframe thead th {\n",
       "        text-align: right;\n",
       "    }\n",
       "</style>\n",
       "<table border=\"1\" class=\"dataframe\">\n",
       "  <thead>\n",
       "    <tr style=\"text-align: right;\">\n",
       "      <th></th>\n",
       "      <th>UniProtKB</th>\n",
       "      <th>Protein Name</th>\n",
       "      <th>D_0 at 310 K</th>\n",
       "      <th>Dcyto at 310 K</th>\n",
       "    </tr>\n",
       "  </thead>\n",
       "  <tbody>\n",
       "    <tr>\n",
       "      <th>0</th>\n",
       "      <td>P46482</td>\n",
       "      <td>AaeA</td>\n",
       "      <td>105.8</td>\n",
       "      <td>8.0</td>\n",
       "    </tr>\n",
       "    <tr>\n",
       "      <th>1</th>\n",
       "      <td>P46481</td>\n",
       "      <td>AaeB</td>\n",
       "      <td>78.9</td>\n",
       "      <td>3.9</td>\n",
       "    </tr>\n",
       "    <tr>\n",
       "      <th>2</th>\n",
       "      <td>P67662</td>\n",
       "      <td>AaeR</td>\n",
       "      <td>106.2</td>\n",
       "      <td>8.1</td>\n",
       "    </tr>\n",
       "    <tr>\n",
       "      <th>3</th>\n",
       "      <td>P46478</td>\n",
       "      <td>AaeX</td>\n",
       "      <td>189.7</td>\n",
       "      <td>28.3</td>\n",
       "    </tr>\n",
       "    <tr>\n",
       "      <th>4</th>\n",
       "      <td>P31119</td>\n",
       "      <td>Aas</td>\n",
       "      <td>76.1</td>\n",
       "      <td>3.6</td>\n",
       "    </tr>\n",
       "  </tbody>\n",
       "</table>\n",
       "</div>"
      ],
      "text/plain": [
       "  UniProtKB Protein Name  D_0 at 310 K  Dcyto at 310 K\n",
       "0    P46482         AaeA         105.8             8.0\n",
       "1    P46481         AaeB          78.9             3.9\n",
       "2    P67662         AaeR         106.2             8.1\n",
       "3    P46478         AaeX         189.7            28.3\n",
       "4    P31119          Aas          76.1             3.6"
      ]
     },
     "execution_count": 22,
     "metadata": {},
     "output_type": "execute_result"
    }
   ],
   "source": [
    "dataset.head()"
   ]
  },
  {
   "cell_type": "code",
   "execution_count": 31,
   "id": "4bd1fe11-3fb0-4725-8b06-a2cb76b93ad7",
   "metadata": {},
   "outputs": [],
   "source": [
    "# Function to get molecular weight from UniProt REST API\n",
    "def get_molecular_weight(uniprot_id):\n",
    "    try:\n",
    "        # UniProt REST API URL for querying protein information\n",
    "        url = f\"https://rest.uniprot.org/uniprotkb/{uniprot_id}.json\"\n",
    "        response = requests.get(url)\n",
    "        \n",
    "        # Check if the request was successful\n",
    "        if response.status_code == 200:\n",
    "            data = response.json()\n",
    "            # Extract molecular weight from the sequence metadata\n",
    "            molecular_weight = data.get(\"sequence\", {}).get(\"molWeight\")  # Updated key\n",
    "            if molecular_weight:\n",
    "                return round(molecular_weight / 1000, 2)  # Convert to kDa\n",
    "        else:\n",
    "            print(f\"Failed to fetch data for {uniprot_id}: {response.status_code}\")\n",
    "    except Exception as e:\n",
    "        print(f\"Error retrieving molecular weight for {uniprot_id}: {e}\")\n",
    "    return None"
   ]
  },
  {
   "cell_type": "code",
   "execution_count": 32,
   "id": "80a9228f-a478-4d8f-925d-ebb62b954276",
   "metadata": {},
   "outputs": [],
   "source": [
    "dataset['kDa'] = dataset['UniProtKB'].apply(get_molecular_weight)"
   ]
  },
  {
   "cell_type": "code",
   "execution_count": 33,
   "id": "b8ea90d8-0601-4c5f-9a59-ce939c1d896e",
   "metadata": {},
   "outputs": [],
   "source": [
    "output_file = 'Diffusion_Rates_with_kDa.csv'"
   ]
  },
  {
   "cell_type": "code",
   "execution_count": 34,
   "id": "b7ce2339-fa82-439f-bf58-612323ecdf8c",
   "metadata": {},
   "outputs": [],
   "source": [
    "dataset.to_csv(output_file, index=False)"
   ]
  },
  {
   "cell_type": "code",
   "execution_count": 35,
   "id": "81df387b-d7d0-47db-86fe-772c19c48ce8",
   "metadata": {},
   "outputs": [
    {
     "data": {
      "text/html": [
       "<div>\n",
       "<style scoped>\n",
       "    .dataframe tbody tr th:only-of-type {\n",
       "        vertical-align: middle;\n",
       "    }\n",
       "\n",
       "    .dataframe tbody tr th {\n",
       "        vertical-align: top;\n",
       "    }\n",
       "\n",
       "    .dataframe thead th {\n",
       "        text-align: right;\n",
       "    }\n",
       "</style>\n",
       "<table border=\"1\" class=\"dataframe\">\n",
       "  <thead>\n",
       "    <tr style=\"text-align: right;\">\n",
       "      <th></th>\n",
       "      <th>UniProtKB</th>\n",
       "      <th>Protein Name</th>\n",
       "      <th>D_0 at 310 K</th>\n",
       "      <th>Dcyto at 310 K</th>\n",
       "      <th>kDa</th>\n",
       "    </tr>\n",
       "  </thead>\n",
       "  <tbody>\n",
       "    <tr>\n",
       "      <th>0</th>\n",
       "      <td>P46482</td>\n",
       "      <td>AaeA</td>\n",
       "      <td>105.8</td>\n",
       "      <td>8.0</td>\n",
       "      <td>34.77</td>\n",
       "    </tr>\n",
       "    <tr>\n",
       "      <th>1</th>\n",
       "      <td>P46481</td>\n",
       "      <td>AaeB</td>\n",
       "      <td>78.9</td>\n",
       "      <td>3.9</td>\n",
       "      <td>73.59</td>\n",
       "    </tr>\n",
       "    <tr>\n",
       "      <th>2</th>\n",
       "      <td>P67662</td>\n",
       "      <td>AaeR</td>\n",
       "      <td>106.2</td>\n",
       "      <td>8.1</td>\n",
       "      <td>34.52</td>\n",
       "    </tr>\n",
       "    <tr>\n",
       "      <th>3</th>\n",
       "      <td>P46478</td>\n",
       "      <td>AaeX</td>\n",
       "      <td>189.7</td>\n",
       "      <td>28.3</td>\n",
       "      <td>7.85</td>\n",
       "    </tr>\n",
       "    <tr>\n",
       "      <th>4</th>\n",
       "      <td>P31119</td>\n",
       "      <td>Aas</td>\n",
       "      <td>76.1</td>\n",
       "      <td>3.6</td>\n",
       "      <td>80.70</td>\n",
       "    </tr>\n",
       "  </tbody>\n",
       "</table>\n",
       "</div>"
      ],
      "text/plain": [
       "  UniProtKB Protein Name  D_0 at 310 K  Dcyto at 310 K    kDa\n",
       "0    P46482         AaeA         105.8             8.0  34.77\n",
       "1    P46481         AaeB          78.9             3.9  73.59\n",
       "2    P67662         AaeR         106.2             8.1  34.52\n",
       "3    P46478         AaeX         189.7            28.3   7.85\n",
       "4    P31119          Aas          76.1             3.6  80.70"
      ]
     },
     "execution_count": 35,
     "metadata": {},
     "output_type": "execute_result"
    }
   ],
   "source": [
    "dataset.head()"
   ]
  },
  {
   "cell_type": "code",
   "execution_count": null,
   "id": "c9ff9161-d405-4248-aa41-83403161f491",
   "metadata": {},
   "outputs": [],
   "source": []
  }
 ],
 "metadata": {
  "kernelspec": {
   "display_name": "Python 3 (ipykernel)",
   "language": "python",
   "name": "python3"
  },
  "language_info": {
   "codemirror_mode": {
    "name": "ipython",
    "version": 3
   },
   "file_extension": ".py",
   "mimetype": "text/x-python",
   "name": "python",
   "nbconvert_exporter": "python",
   "pygments_lexer": "ipython3",
   "version": "3.12.6"
  }
 },
 "nbformat": 4,
 "nbformat_minor": 5
}
